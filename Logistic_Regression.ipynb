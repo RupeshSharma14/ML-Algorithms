{
  "nbformat": 4,
  "nbformat_minor": 0,
  "metadata": {
    "colab": {
      "name": "Logistic Regression.ipynb",
      "provenance": [],
      "toc_visible": true,
      "mount_file_id": "1PKDYLpGHvWyKFKrrRMXlh9tbu_6x9nui",
      "authorship_tag": "ABX9TyNJpDIBKP9AfFFqMfhtQ+jN",
      "include_colab_link": true
    },
    "kernelspec": {
      "name": "python3",
      "display_name": "Python 3"
    },
    "language_info": {
      "name": "python"
    }
  },
  "cells": [
    {
      "cell_type": "markdown",
      "metadata": {
        "id": "view-in-github",
        "colab_type": "text"
      },
      "source": [
        "<a href=\"https://colab.research.google.com/github/RupeshSharma14/ML-Algorithms/blob/main/Logistic_Regression.ipynb\" target=\"_parent\"><img src=\"https://colab.research.google.com/assets/colab-badge.svg\" alt=\"Open In Colab\"/></a>"
      ]
    },
    {
      "cell_type": "code",
      "metadata": {
        "id": "dsC9uvh9RW49"
      },
      "source": [
        "import pandas as pd\n",
        "import numpy as np\n",
        "import matplotlib.pyplot as plt\n",
        "%matplotlib inline"
      ],
      "execution_count": 1,
      "outputs": []
    },
    {
      "cell_type": "markdown",
      "metadata": {
        "id": "0K3SJrf-SD8M"
      },
      "source": [
        "## Logistic Regression"
      ]
    },
    {
      "cell_type": "code",
      "metadata": {
        "colab": {
          "base_uri": "https://localhost:8080/",
          "height": 194
        },
        "id": "cVtiRWYjSCd0",
        "outputId": "ae6d7c72-c767-4f4f-f876-d96573876d29"
      },
      "source": [
        "# Loading the data\n",
        "\n",
        "data = pd.read_csv(\"/content/drive/MyDrive/Colab Notebooks/ex2data1.txt\", header = None, names = [\"Exam 1 Score\", \"Exam 2 Score\", \"Admission Decision\"])\n",
        "\n",
        "m = len(data) # num of training examples \n",
        "x0 = np.ones((m, 1))  # x0, vector of 1s\n",
        "X = np.c_[x0, np.array(data[[\"Exam 1 Score\", \"Exam 2 Score\"]])] \n",
        "y = np.array(data[\"Admission Decision\"]).reshape(m, 1)\n",
        "m, n = X.shape\n",
        "\n",
        "data.head()"
      ],
      "execution_count": 2,
      "outputs": [
        {
          "output_type": "execute_result",
          "data": {
            "text/html": [
              "<div>\n",
              "<style scoped>\n",
              "    .dataframe tbody tr th:only-of-type {\n",
              "        vertical-align: middle;\n",
              "    }\n",
              "\n",
              "    .dataframe tbody tr th {\n",
              "        vertical-align: top;\n",
              "    }\n",
              "\n",
              "    .dataframe thead th {\n",
              "        text-align: right;\n",
              "    }\n",
              "</style>\n",
              "<table border=\"1\" class=\"dataframe\">\n",
              "  <thead>\n",
              "    <tr style=\"text-align: right;\">\n",
              "      <th></th>\n",
              "      <th>Exam 1 Score</th>\n",
              "      <th>Exam 2 Score</th>\n",
              "      <th>Admission Decision</th>\n",
              "    </tr>\n",
              "  </thead>\n",
              "  <tbody>\n",
              "    <tr>\n",
              "      <th>0</th>\n",
              "      <td>34.623660</td>\n",
              "      <td>78.024693</td>\n",
              "      <td>0</td>\n",
              "    </tr>\n",
              "    <tr>\n",
              "      <th>1</th>\n",
              "      <td>30.286711</td>\n",
              "      <td>43.894998</td>\n",
              "      <td>0</td>\n",
              "    </tr>\n",
              "    <tr>\n",
              "      <th>2</th>\n",
              "      <td>35.847409</td>\n",
              "      <td>72.902198</td>\n",
              "      <td>0</td>\n",
              "    </tr>\n",
              "    <tr>\n",
              "      <th>3</th>\n",
              "      <td>60.182599</td>\n",
              "      <td>86.308552</td>\n",
              "      <td>1</td>\n",
              "    </tr>\n",
              "    <tr>\n",
              "      <th>4</th>\n",
              "      <td>79.032736</td>\n",
              "      <td>75.344376</td>\n",
              "      <td>1</td>\n",
              "    </tr>\n",
              "  </tbody>\n",
              "</table>\n",
              "</div>"
            ],
            "text/plain": [
              "   Exam 1 Score  Exam 2 Score  Admission Decision\n",
              "0     34.623660     78.024693                   0\n",
              "1     30.286711     43.894998                   0\n",
              "2     35.847409     72.902198                   0\n",
              "3     60.182599     86.308552                   1\n",
              "4     79.032736     75.344376                   1"
            ]
          },
          "metadata": {
            "tags": []
          },
          "execution_count": 2
        }
      ]
    },
    {
      "cell_type": "code",
      "metadata": {
        "colab": {
          "base_uri": "https://localhost:8080/",
          "height": 265
        },
        "id": "kVg9jPYISrrp",
        "outputId": "f283835a-8034-4e5d-852d-b53c42ae6aaa"
      },
      "source": [
        "# Visualization of data\n",
        "\n",
        "pos = np.where(y == 1)[0]  # indices of positive example\n",
        "neg = np.where(y == 0)[0] # indices of negative example\n",
        "\n",
        "plt.plot(X[pos, 1], X[pos, 2], \"bo\", label = \"Admitted\")\n",
        "plt.plot(X[neg, 1], X[neg, 2], \"ro\", label = \"Not Admitted\")\n",
        "plt.legend();"
      ],
      "execution_count": 3,
      "outputs": [
        {
          "output_type": "display_data",
          "data": {
            "image/png": "[encoded data removed]",
            "text/plain": [
              "<Figure size 432x288 with 1 Axes>"
            ]
          },
          "metadata": {
            "tags": [],
            "needs_background": "light"
          }
        }
      ]
    },
    {
      "cell_type": "code",
      "metadata": {
        "id": "204kwpYGfxfi"
      },
      "source": [
        "# Sigmoid function\n",
        "\n",
        "def sigmoid(z):\n",
        "  return 1/(1+np.exp(-z))"
      ],
      "execution_count": 4,
      "outputs": []
    },
    {
      "cell_type": "code",
      "metadata": {
        "id": "wQfzgR9wUqb2"
      },
      "source": [
        "def cost( theta, X, y):   # To use conjugate gradient, the order of parameters will be theta, X, y\n",
        "    m = len(y)\n",
        "    hx = sigmoid(X @ theta)\n",
        "    return 1/m * (-y.T @ np.log(hx) - (1 - y).T @ np.log(1 - hx))"
      ],
      "execution_count": 5,
      "outputs": []
    },
    {
      "cell_type": "code",
      "metadata": {
        "colab": {
          "base_uri": "https://localhost:8080/"
        },
        "id": "IebSbkbZQ5k0",
        "outputId": "c72a3560-1b69-481d-a3ca-39c43e30f014"
      },
      "source": [
        "# Z-score scaling\n",
        "\n",
        "def normalize(X):\n",
        "    X_ = X.transpose()\n",
        "    mu = np.zeros(len(X_))\n",
        "    sigma = np.zeros(len(X_))\n",
        "    for i, feature in enumerate(X_):\n",
        "        if i == 0: \n",
        "            continue\n",
        "        mu_ = np.mean(feature)\n",
        "        sigma_ = np.std(feature)\n",
        "        mu[i] = mu_\n",
        "        sigma[i] = sigma_\n",
        "        X[:, i] = (feature - mu_) / sigma_\n",
        "        \n",
        "    return X, mu, sigma\n",
        "\n",
        "X, mu, sigma = normalize(X)\n",
        "X[0:5]"
      ],
      "execution_count": 6,
      "outputs": [
        {
          "output_type": "execute_result",
          "data": {
            "text/plain": [
              "array([[ 1.        , -1.60224763,  0.63834112],\n",
              "       [ 1.        , -1.82625564, -1.2075414 ],\n",
              "       [ 1.        , -1.53903969,  0.3612943 ],\n",
              "       [ 1.        , -0.28210129,  1.0863683 ],\n",
              "       [ 1.        ,  0.69152826,  0.49337794]])"
            ]
          },
          "metadata": {
            "tags": []
          },
          "execution_count": 6
        }
      ]
    },
    {
      "cell_type": "code",
      "metadata": {
        "colab": {
          "base_uri": "https://localhost:8080/"
        },
        "id": "TLyxZLA5bRDx",
        "outputId": "a24c45dd-cd73-4d27-89b6-3159c8296d38"
      },
      "source": [
        "# Gradient descent\n",
        "\n",
        "def gradient(X, y, theta, alpha, iterations):\n",
        "  m = len(y)\n",
        "  hx = sigmoid(X @ theta)\n",
        "  J_history = np.zeros((iterations, 1))\n",
        "  for iter in range(iterations):\n",
        "    theta = theta - (alpha / m) * X.T @ (hx - y)\n",
        "    J_history[iter] = cost(theta, X, y)\n",
        "  return theta, J_history\n",
        "\n",
        "alpha = 0.01\n",
        "init_theta = np.zeros((3, 1))\n",
        "iterations = 1500\n",
        "theta, J_history = gradient(X, y, init_theta, alpha, iterations)\n",
        "theta"
      ],
      "execution_count": 7,
      "outputs": [
        {
          "output_type": "execute_result",
          "data": {
            "text/plain": [
              "array([[1.5       ],\n",
              "       [4.21843703],\n",
              "       [3.76479219]])"
            ]
          },
          "metadata": {
            "tags": []
          },
          "execution_count": 7
        }
      ]
    },
    {
      "cell_type": "code",
      "metadata": {
        "colab": {
          "base_uri": "https://localhost:8080/",
          "height": 265
        },
        "id": "iI7A98qS7VGj",
        "outputId": "1e68767d-f635-4d0c-894e-e0e4d60c0ad2"
      },
      "source": [
        "plt.plot(J_history);"
      ],
      "execution_count": 8,
      "outputs": [
        {
          "output_type": "display_data",
          "data": {
            "image/png": "[encoded data removed]",
            "text/plain": [
              "<Figure size 432x288 with 1 Axes>"
            ]
          },
          "metadata": {
            "tags": [],
            "needs_background": "light"
          }
        }
      ]
    },
    {
      "cell_type": "code",
      "metadata": {
        "colab": {
          "base_uri": "https://localhost:8080/"
        },
        "id": "3Ir0YLeSnhqh",
        "outputId": "0ccccf30-0a7e-47b7-e89a-037f339dad89"
      },
      "source": [
        "# Prediction\n",
        "\n",
        "X_pred = np.array([1, (45 - mu[1]) / sigma[1], (85 - mu[2]) / sigma[2]])\n",
        "prob = sigmoid(X_pred @ theta)\n",
        "print(f\"For a student with scores 45 and 85, we predict an admission probability of {np.round(prob[0], 2)}\")"
      ],
      "execution_count": 9,
      "outputs": [
        {
          "output_type": "stream",
          "text": [
            "For a student with scores 45 and 85, we predict an admission probability of 0.7\n"
          ],
          "name": "stdout"
        }
      ]
    },
    {
      "cell_type": "code",
      "metadata": {
        "colab": {
          "base_uri": "https://localhost:8080/"
        },
        "id": "zTtuKvefxfgS",
        "outputId": "5dcad6bf-7de0-412c-d9aa-ada574826da9"
      },
      "source": [
        "# Training Accuracy \n",
        "\n",
        "hx = np.zeros((m ,1))\n",
        "for (iter, example) in enumerate(X):\n",
        "  prob = sigmoid(np.array(example @ theta))\n",
        "  hx[iter] = 1 if prob >= 0.5 else 0\n",
        "\n",
        "print(f\"Training Accuracy: {np.mean(hx == y.reshape((m, 1))) * 100}%\")"
      ],
      "execution_count": 10,
      "outputs": [
        {
          "output_type": "stream",
          "text": [
            "Training Accuracy: 90.0%\n"
          ],
          "name": "stdout"
        }
      ]
    },
    {
      "cell_type": "code",
      "metadata": {
        "id": "qF62dz3zG4KM"
      },
      "source": [
        "# Logistic regression using conjugate gradient (Advanced Optimisation)\n",
        "\n",
        "def cost_derivative(theta, X, y):  # To use conjugate gradient, the order of parameters will be theta, X, y\n",
        "  m = len(y)\n",
        "  n = len(theta)\n",
        "  hx = sigmoid(X @ theta)\n",
        "  derivative = (1 / m) * X.T @ (hx - y)\n",
        "  return derivative"
      ],
      "execution_count": 11,
      "outputs": []
    },
    {
      "cell_type": "code",
      "metadata": {
        "colab": {
          "base_uri": "https://localhost:8080/"
        },
        "id": "4ADQw9zODE8-",
        "outputId": "9deb4090-38a9-4627-d428-d253f5c563eb"
      },
      "source": [
        "initial_theta = np.zeros((n))\n",
        "y = y.reshape(m)\n",
        "print('Cost: \\n{}\\n'.format(cost(initial_theta, X, y)))\n",
        "print('Gradient: \\n{}'.format(cost_derivative(initial_theta, X, y)))"
      ],
      "execution_count": 12,
      "outputs": [
        {
          "output_type": "stream",
          "text": [
            "Cost: \n",
            "0.6931471805599453\n",
            "\n",
            "Gradient: \n",
            "[-0.1        -0.28122914 -0.25098615]\n"
          ],
          "name": "stdout"
        }
      ]
    },
    {
      "cell_type": "code",
      "metadata": {
        "colab": {
          "base_uri": "https://localhost:8080/"
        },
        "id": "2v2H2NQZaZ2R",
        "outputId": "079d749d-e113-485d-a134-2c4bd2546907"
      },
      "source": [
        "# Learning theta using conjugate gradient\n",
        "\n",
        "from scipy.optimize import minimize\n",
        "\n",
        "init_theta = np.zeros((3, 1))\n",
        "result = minimize(cost, init_theta, args = (X, y),\n",
        "                  method = \"CG\", jac = cost_derivative, \n",
        "                  options = {\"maxiter\": 400, \"disp\": 1})\n",
        "\n",
        "theta = result.x\n",
        "print(\"Conjugate gradient found the following values for theta: {}\".format(theta))"
      ],
      "execution_count": 13,
      "outputs": [
        {
          "output_type": "stream",
          "text": [
            "Optimization terminated successfully.\n",
            "         Current function value: 0.203498\n",
            "         Iterations: 13\n",
            "         Function evaluations: 42\n",
            "         Gradient evaluations: 42\n",
            "Conjugate gradient found the following values for theta: [1.71831941 3.99235396 3.72482497]\n"
          ],
          "name": "stdout"
        }
      ]
    },
    {
      "cell_type": "code",
      "metadata": {
        "colab": {
          "base_uri": "https://localhost:8080/"
        },
        "id": "0mtIaHLETZ13",
        "outputId": "20f3c4af-b343-421d-ec26-f1555363e804"
      },
      "source": [
        "# Prediction\n",
        "\n",
        "X_pred = np.array([1, (45 - mu[1]) / sigma[1], (85 - mu[2]) / sigma[2]])\n",
        "prob = sigmoid(X_pred @ theta)\n",
        "print(f\"For a student with scores 45 and 85, we predict an admission probability of {np.round(prob, 2)}\")"
      ],
      "execution_count": 14,
      "outputs": [
        {
          "output_type": "stream",
          "text": [
            "For a student with scores 45 and 85, we predict an admission probability of 0.78\n"
          ],
          "name": "stdout"
        }
      ]
    },
    {
      "cell_type": "code",
      "metadata": {
        "colab": {
          "base_uri": "https://localhost:8080/"
        },
        "id": "eEVaRTp0S4RA",
        "outputId": "b3ef201b-6161-4044-82a7-f8924f8ec9ee"
      },
      "source": [
        "# Training Accuracy\n",
        "\n",
        "hx = np.zeros((m, 1))\n",
        "for (iter, example) in enumerate(X):\n",
        "  prob = sigmoid(np.array(example @ theta))\n",
        "  hx[iter] = 1 if prob >= 0.5 else 0\n",
        "\n",
        "print(f\"Training Accuracy: {np.mean(hx == y.reshape((m, 1))) * 100}%\")"
      ],
      "execution_count": 15,
      "outputs": [
        {
          "output_type": "stream",
          "text": [
            "Training Accuracy: 89.0%\n"
          ],
          "name": "stdout"
        }
      ]
    },
    {
      "cell_type": "code",
      "metadata": {
        "colab": {
          "base_uri": "https://localhost:8080/"
        },
        "id": "7-G8XGQ08KwS",
        "outputId": "f75c97a4-c1e7-46ba-94f1-4437dee62d3b"
      },
      "source": [
        "# Using scikit-learn\n",
        "\n",
        "from sklearn.linear_model import LogisticRegression\n",
        "\n",
        "log_reg = LogisticRegression()\n",
        "log_reg.fit(X, y.ravel())"
      ],
      "execution_count": 16,
      "outputs": [
        {
          "output_type": "execute_result",
          "data": {
            "text/plain": [
              "LogisticRegression(C=1.0, class_weight=None, dual=False, fit_intercept=True,\n",
              "                   intercept_scaling=1, l1_ratio=None, max_iter=100,\n",
              "                   multi_class='auto', n_jobs=None, penalty='l2',\n",
              "                   random_state=None, solver='lbfgs', tol=0.0001, verbose=0,\n",
              "                   warm_start=False)"
            ]
          },
          "metadata": {
            "tags": []
          },
          "execution_count": 16
        }
      ]
    },
    {
      "cell_type": "code",
      "metadata": {
        "colab": {
          "base_uri": "https://localhost:8080/"
        },
        "id": "azVB6LGmGumf",
        "outputId": "32c201c0-5e95-4ce4-b168-d3a498ba0c82"
      },
      "source": [
        "X_pred = np.array([[1, (45 - mu[1]) / sigma[1], (85 - mu[2]) / sigma[2]]])\n",
        "prob = log_reg.predict(X_pred)\n",
        "print(f\"For a student with scores 45 and 85, our prediction is  {np.round(prob[0], 2)}\")"
      ],
      "execution_count": 17,
      "outputs": [
        {
          "output_type": "stream",
          "text": [
            "For a student with scores 45 and 85, our prediction is  1\n"
          ],
          "name": "stdout"
        }
      ]
    },
    {
      "cell_type": "code",
      "metadata": {
        "colab": {
          "base_uri": "https://localhost:8080/"
        },
        "id": "G5JiOHW1XC1e",
        "outputId": "aa23b6f2-5779-4082-9be9-9159b4e0d132"
      },
      "source": [
        "# Training accuracy\n",
        "\n",
        "from sklearn.metrics import accuracy_score\n",
        "\n",
        "score = accuracy_score(y, log_reg.predict(X))\n",
        "print(f\"Training Accuracy: {score * 100}%\")"
      ],
      "execution_count": 18,
      "outputs": [
        {
          "output_type": "stream",
          "text": [
            "Training Accuracy: 89.0%\n"
          ],
          "name": "stdout"
        }
      ]
    }
  ]
}