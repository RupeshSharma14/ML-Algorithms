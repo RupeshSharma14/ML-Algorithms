{
  "nbformat": 4,
  "nbformat_minor": 0,
  "metadata": {
    "kernelspec": {
      "display_name": "Python 3",
      "language": "python",
      "name": "python3"
    },
    "language_info": {
      "codemirror_mode": {
        "name": "ipython",
        "version": 3
      },
      "file_extension": ".py",
      "mimetype": "text/x-python",
      "name": "python",
      "nbconvert_exporter": "python",
      "pygments_lexer": "ipython3",
      "version": "3.8.5"
    },
    "colab": {
      "name": "Exercise 1.ipynb",
      "provenance": [],
      "toc_visible": true,
      "include_colab_link": true
    }
  },
  "cells": [
    {
      "cell_type": "markdown",
      "metadata": {
        "id": "view-in-github",
        "colab_type": "text"
      },
      "source": [
        "<a href=\"https://colab.research.google.com/github/RupeshSharma14/ML-Algorithms/blob/main/Regression.ipynb\" target=\"_parent\"><img src=\"https://colab.research.google.com/assets/colab-badge.svg\" alt=\"Open In Colab\"/></a>"
      ]
    },
    {
      "cell_type": "code",
      "metadata": {
        "colab": {
          "base_uri": "https://localhost:8080/"
        },
        "id": "_kbPSEC7hoYw",
        "outputId": "a20b2a70-f3cc-4752-dc0d-ebff4b8d4944"
      },
      "source": [
        "from google.colab import drive\n",
        "drive.mount('/content/drive')"
      ],
      "execution_count": 1,
      "outputs": [
        {
          "output_type": "stream",
          "text": [
            "Drive already mounted at /content/drive; to attempt to forcibly remount, call drive.mount(\"/content/drive\", force_remount=True).\n"
          ],
          "name": "stdout"
        }
      ]
    },
    {
      "cell_type": "code",
      "metadata": {
        "id": "aWkxOowlqlbj"
      },
      "source": [
        "import pandas as pd\n",
        "import numpy as np\n",
        "import matplotlib.pyplot as plt\n",
        "%matplotlib inline"
      ],
      "execution_count": 2,
      "outputs": []
    },
    {
      "cell_type": "markdown",
      "metadata": {
        "id": "MdsbFtcl2gi2"
      },
      "source": [
        "## Linear Regression with one variable"
      ]
    },
    {
      "cell_type": "code",
      "metadata": {
        "colab": {
          "base_uri": "https://localhost:8080/",
          "height": 195
        },
        "id": "t3uUmZluqlbt",
        "outputId": "fdad7269-a7d3-4643-cc84-637be579120d"
      },
      "source": [
        "# Loading the data\n",
        "\n",
        "data = pd.read_csv(\"/content/drive/MyDrive/Colab Notebooks/ex1data1.txt\", header = None, names = [\"Population\", \"Profit\"])\n",
        "\n",
        "m = len(data) # number of training examples\n",
        "X = np.c_[np.ones((m, 1)), np.array(data[\"Population\"])] # Add x0, a vector of 1s, to X \n",
        "y = np.array(data[\"Profit\"]).reshape(m ,1) \n",
        "\n",
        "data.head()"
      ],
      "execution_count": 3,
      "outputs": [
        {
          "output_type": "execute_result",
          "data": {
            "text/html": [
              "<div>\n",
              "<style scoped>\n",
              "    .dataframe tbody tr th:only-of-type {\n",
              "        vertical-align: middle;\n",
              "    }\n",
              "\n",
              "    .dataframe tbody tr th {\n",
              "        vertical-align: top;\n",
              "    }\n",
              "\n",
              "    .dataframe thead th {\n",
              "        text-align: right;\n",
              "    }\n",
              "</style>\n",
              "<table border=\"1\" class=\"dataframe\">\n",
              "  <thead>\n",
              "    <tr style=\"text-align: right;\">\n",
              "      <th></th>\n",
              "      <th>Population</th>\n",
              "      <th>Profit</th>\n",
              "    </tr>\n",
              "  </thead>\n",
              "  <tbody>\n",
              "    <tr>\n",
              "      <th>0</th>\n",
              "      <td>6.1101</td>\n",
              "      <td>17.5920</td>\n",
              "    </tr>\n",
              "    <tr>\n",
              "      <th>1</th>\n",
              "      <td>5.5277</td>\n",
              "      <td>9.1302</td>\n",
              "    </tr>\n",
              "    <tr>\n",
              "      <th>2</th>\n",
              "      <td>8.5186</td>\n",
              "      <td>13.6620</td>\n",
              "    </tr>\n",
              "    <tr>\n",
              "      <th>3</th>\n",
              "      <td>7.0032</td>\n",
              "      <td>11.8540</td>\n",
              "    </tr>\n",
              "    <tr>\n",
              "      <th>4</th>\n",
              "      <td>5.8598</td>\n",
              "      <td>6.8233</td>\n",
              "    </tr>\n",
              "  </tbody>\n",
              "</table>\n",
              "</div>"
            ],
            "text/plain": [
              "   Population   Profit\n",
              "0      6.1101  17.5920\n",
              "1      5.5277   9.1302\n",
              "2      8.5186  13.6620\n",
              "3      7.0032  11.8540\n",
              "4      5.8598   6.8233"
            ]
          },
          "metadata": {
            "tags": []
          },
          "execution_count": 3
        }
      ]
    },
    {
      "cell_type": "code",
      "metadata": {
        "id": "XLVG1lnxqlbv",
        "colab": {
          "base_uri": "https://localhost:8080/",
          "height": 295
        },
        "outputId": "996b3d35-5b4a-403e-bbf8-fec6f2ce2157"
      },
      "source": [
        "# Ploting the data\n",
        "\n",
        "plt.plot(data[\"Population\"], data[\"Profit\"], \"rx\")\n",
        "plt.xlabel(\"Population of City in 10,000s\")\n",
        "plt.ylabel(\"Profit in $10,000s\")\n",
        "plt.title(\"Relation between population and profit\");"
      ],
      "execution_count": 4,
      "outputs": [
        {
          "output_type": "display_data",
          "data": {
            "image/png": "[encoded data removed]",
            "text/plain": [
              "<Figure size 432x288 with 1 Axes>"
            ]
          },
          "metadata": {
            "tags": [],
            "needs_background": "light"
          }
        }
      ]
    },
    {
      "cell_type": "code",
      "metadata": {
        "id": "IO2KZKE9qlbx"
      },
      "source": [
        "def cost(X, y, theta):\n",
        "    \"\"\" Computes the cost of using theta as the parameter for linear regression to fit the data in X and y. \"\"\"\n",
        "    m = len(y)\n",
        "#     return (1 / (2 * m)) * (X @ theta - y).transpose().dot(X @ theta - y) # vector form\n",
        "    return (1 / (2 * m)) * np.sum(np.square((X @ theta) - y)) # operator @ is used for matrix-vector multiplication"
      ],
      "execution_count": 5,
      "outputs": []
    },
    {
      "cell_type": "code",
      "metadata": {
        "id": "DVzHCXF4qlbx",
        "colab": {
          "base_uri": "https://localhost:8080/"
        },
        "outputId": "01afe4c9-8870-402e-a2b3-9accecf0a3cb"
      },
      "source": [
        "initial_theta = np.zeros((2, 1))\n",
        "cost(X, y, initial_theta)"
      ],
      "execution_count": 6,
      "outputs": [
        {
          "output_type": "execute_result",
          "data": {
            "text/plain": [
              "32.072733877455676"
            ]
          },
          "metadata": {
            "tags": []
          },
          "execution_count": 6
        }
      ]
    },
    {
      "cell_type": "code",
      "metadata": {
        "id": "HqdW9GJzqlby"
      },
      "source": [
        "def gradient_descent(X, y, theta, alpha, iterations):\n",
        "    \"\"\" Performs gradient descent to learn theta. \n",
        "    Returns the found value for theta and the history of the cost function.\n",
        "    \"\"\"\n",
        "    \n",
        "    m = len(y)\n",
        "    J_history = np.zeros((iterations, 1))\n",
        "    for iter in range(iterations):\n",
        "        temp0 = theta[0] - (alpha / m) * np.sum((X @ theta) - y).transpose()  \n",
        "        temp1 = theta[1] - (alpha / m) * np.sum((X @ theta - y).transpose() @ X[:, 1:])\n",
        "    \n",
        "        theta[0] = temp0\n",
        "        theta[1] = temp1\n",
        "    \n",
        "        J_history[iter] = cost(X, y, theta)\n",
        "    \n",
        "    return theta, J_history"
      ],
      "execution_count": 7,
      "outputs": []
    },
    {
      "cell_type": "code",
      "metadata": {
        "id": "A9_3mKS3qlbz",
        "colab": {
          "base_uri": "https://localhost:8080/"
        },
        "outputId": "91521d3d-bfcf-4f6a-b609-cf6625b26ac4"
      },
      "source": [
        "alpha = 0.01\n",
        "iterations = 1500\n",
        "\n",
        "theta, J_history = gradient_descent(X, y, initial_theta, alpha, iterations)\n",
        "theta"
      ],
      "execution_count": 8,
      "outputs": [
        {
          "output_type": "execute_result",
          "data": {
            "text/plain": [
              "array([[-3.63029144],\n",
              "       [ 1.16636235]])"
            ]
          },
          "metadata": {
            "tags": []
          },
          "execution_count": 8
        }
      ]
    },
    {
      "cell_type": "code",
      "metadata": {
        "id": "T7kv7N8-qlb0",
        "colab": {
          "base_uri": "https://localhost:8080/",
          "height": 280
        },
        "outputId": "fa469f78-996c-49bb-e6a9-bffd549a8412"
      },
      "source": [
        "# Plotting the regression line\n",
        "\n",
        "plt.plot(X[:, 1], y, 'rx')\n",
        "plt.plot(X[:, 1], X @ theta) # can also use X.dot(theta) for element-wise multiplication\n",
        "plt.xlabel(\"Population of City in 10,000s\")\n",
        "plt.ylabel(\"Profit in $10,000s\")\n",
        "plt.legend([\"Training data\", \"Linear Regression\"]);"
      ],
      "execution_count": 9,
      "outputs": [
        {
          "output_type": "display_data",
          "data": {
            "image/png": "[encoded data removed]",
            "text/plain": [
              "<Figure size 432x288 with 1 Axes>"
            ]
          },
          "metadata": {
            "tags": [],
            "needs_background": "light"
          }
        }
      ]
    },
    {
      "cell_type": "code",
      "metadata": {
        "id": "SbWEMWFrqlb1",
        "colab": {
          "base_uri": "https://localhost:8080/",
          "height": 295
        },
        "outputId": "45cc9f4a-02d7-4902-b98e-a81e3c6e4753"
      },
      "source": [
        "# Visualizing cost function\n",
        "\n",
        "plt.plot(J_history);\n",
        "plt.title(\"J per iteration\");\n",
        "plt.xlabel(\"Number of iterations\")\n",
        "plt.ylabel(\"Cost\");"
      ],
      "execution_count": 10,
      "outputs": [
        {
          "output_type": "display_data",
          "data": {
            "image/png": "[encoded data removed]",
            "text/plain": [
              "<Figure size 432x288 with 1 Axes>"
            ]
          },
          "metadata": {
            "tags": [],
            "needs_background": "light"
          }
        }
      ]
    },
    {
      "cell_type": "code",
      "metadata": {
        "id": "KE6t5sbsqlb2",
        "colab": {
          "base_uri": "https://localhost:8080/"
        },
        "outputId": "4de7a08b-5eed-4acf-8079-b9c916d3e52a"
      },
      "source": [
        "## Making prediction using the model\n",
        "\n",
        "prediction = theta.T.dot(np.array([1, 3.5])) * 10000\n",
        "print('In a city with a population of 35000, we predict a profit of ${}'.format(np.round(prediction[0], 2)))"
      ],
      "execution_count": 11,
      "outputs": [
        {
          "output_type": "stream",
          "text": [
            "In a city with a population of 35000, we predict a profit of $4519.77\n"
          ],
          "name": "stdout"
        }
      ]
    },
    {
      "cell_type": "markdown",
      "metadata": {
        "id": "-sOiGJLPqlb4"
      },
      "source": [
        "## Multivariate Linear Regression"
      ]
    },
    {
      "cell_type": "code",
      "metadata": {
        "id": "rrSHQIfsqlb4",
        "colab": {
          "base_uri": "https://localhost:8080/",
          "height": 195
        },
        "outputId": "e2ada902-a63d-4c66-bfbc-9417232755ce"
      },
      "source": [
        "# Loading the data\n",
        "\n",
        "data = pd.read_csv(\"/content/drive/MyDrive/Colab Notebooks/ex1data2.txt\", header = None, names = [\"Size\", \"Bedrooms\", \"Price\"])\n",
        "m = len(data)\n",
        "X = np.c_[np.ones((m, 1)), np.array(data[[\"Size\", \"Bedrooms\"]])] # add x0, vectors of 1\n",
        "y = np.array(data['Price']).reshape(m,1)\n",
        "\n",
        "data.head()"
      ],
      "execution_count": 12,
      "outputs": [
        {
          "output_type": "execute_result",
          "data": {
            "text/html": [
              "<div>\n",
              "<style scoped>\n",
              "    .dataframe tbody tr th:only-of-type {\n",
              "        vertical-align: middle;\n",
              "    }\n",
              "\n",
              "    .dataframe tbody tr th {\n",
              "        vertical-align: top;\n",
              "    }\n",
              "\n",
              "    .dataframe thead th {\n",
              "        text-align: right;\n",
              "    }\n",
              "</style>\n",
              "<table border=\"1\" class=\"dataframe\">\n",
              "  <thead>\n",
              "    <tr style=\"text-align: right;\">\n",
              "      <th></th>\n",
              "      <th>Size</th>\n",
              "      <th>Bedrooms</th>\n",
              "      <th>Price</th>\n",
              "    </tr>\n",
              "  </thead>\n",
              "  <tbody>\n",
              "    <tr>\n",
              "      <th>0</th>\n",
              "      <td>2104</td>\n",
              "      <td>3</td>\n",
              "      <td>399900</td>\n",
              "    </tr>\n",
              "    <tr>\n",
              "      <th>1</th>\n",
              "      <td>1600</td>\n",
              "      <td>3</td>\n",
              "      <td>329900</td>\n",
              "    </tr>\n",
              "    <tr>\n",
              "      <th>2</th>\n",
              "      <td>2400</td>\n",
              "      <td>3</td>\n",
              "      <td>369000</td>\n",
              "    </tr>\n",
              "    <tr>\n",
              "      <th>3</th>\n",
              "      <td>1416</td>\n",
              "      <td>2</td>\n",
              "      <td>232000</td>\n",
              "    </tr>\n",
              "    <tr>\n",
              "      <th>4</th>\n",
              "      <td>3000</td>\n",
              "      <td>4</td>\n",
              "      <td>539900</td>\n",
              "    </tr>\n",
              "  </tbody>\n",
              "</table>\n",
              "</div>"
            ],
            "text/plain": [
              "   Size  Bedrooms   Price\n",
              "0  2104         3  399900\n",
              "1  1600         3  329900\n",
              "2  2400         3  369000\n",
              "3  1416         2  232000\n",
              "4  3000         4  539900"
            ]
          },
          "metadata": {
            "tags": []
          },
          "execution_count": 12
        }
      ]
    },
    {
      "cell_type": "code",
      "metadata": {
        "id": "wFT1ehyKqlb5",
        "colab": {
          "base_uri": "https://localhost:8080/"
        },
        "outputId": "6d01a9cc-8f50-4c6c-d5c6-38f267ab44d2"
      },
      "source": [
        "# Z-score scaling\n",
        "\n",
        "def normalize(X):\n",
        "    X_ = X.transpose()\n",
        "    mu = np.zeros(len(X_))\n",
        "    sigma = np.zeros(len(X_))\n",
        "    for i, feature in enumerate(X_):\n",
        "        if i == 0: \n",
        "            continue\n",
        "        mu_ = np.mean(feature)\n",
        "        sigma_ = np.std(feature)\n",
        "        mu[i] = mu_\n",
        "        sigma[i] = sigma_\n",
        "        X[:, i] = (feature - mu_) / sigma_\n",
        "        \n",
        "    return X, mu, sigma\n",
        "\n",
        "X, mu, sigma = normalize(X)\n",
        "X[0:5]"
      ],
      "execution_count": 13,
      "outputs": [
        {
          "output_type": "execute_result",
          "data": {
            "text/plain": [
              "array([[ 1.        ,  0.13141542, -0.22609337],\n",
              "       [ 1.        , -0.5096407 , -0.22609337],\n",
              "       [ 1.        ,  0.5079087 , -0.22609337],\n",
              "       [ 1.        , -0.74367706, -1.5543919 ],\n",
              "       [ 1.        ,  1.27107075,  1.10220517]])"
            ]
          },
          "metadata": {
            "tags": []
          },
          "execution_count": 13
        }
      ]
    },
    {
      "cell_type": "code",
      "metadata": {
        "id": "8HssUNagqlb6",
        "colab": {
          "base_uri": "https://localhost:8080/"
        },
        "outputId": "d08a10a9-7a26-4142-ebd6-9a0b30536d9d"
      },
      "source": [
        "# Gradient descent\n",
        "\n",
        "def gradient_descent_multiple(X, y, alpha, theta, iterations):\n",
        "    m = len(y)\n",
        "    J_history = np.zeros((iterations, 1))\n",
        "    for iter in range(iterations):\n",
        "        theta = theta - (alpha / m) * X.transpose() @ ((X @ theta) - y) # vector-form\n",
        "        \n",
        "        J_history[iter] = cost(X, y, theta)\n",
        "        \n",
        "    return theta, J_history \n",
        "\n",
        "alpha = 0.01\n",
        "iterations = 1500\n",
        "initial_theta = np.zeros((3, 1))\n",
        "theta, J_history = gradient_descent_multiple(X, y, alpha, initial_theta, iterations)\n",
        "theta"
      ],
      "execution_count": 14,
      "outputs": [
        {
          "output_type": "execute_result",
          "data": {
            "text/plain": [
              "array([[340412.56301439],\n",
              "       [109370.05670466],\n",
              "       [ -6500.61509507]])"
            ]
          },
          "metadata": {
            "tags": []
          },
          "execution_count": 14
        }
      ]
    },
    {
      "cell_type": "code",
      "metadata": {
        "id": "_1fiKmi_qlb6",
        "colab": {
          "base_uri": "https://localhost:8080/",
          "height": 295
        },
        "outputId": "92c28511-06d4-45d1-e0c5-c37e037ae24e"
      },
      "source": [
        "# Visualizing cost function\n",
        "\n",
        "plt.plot(J_history);\n",
        "plt.title(\"J per iteration\");\n",
        "plt.xlabel(\"Number of iterations\")\n",
        "plt.ylabel(\"Cost\");"
      ],
      "execution_count": 15,
      "outputs": [
        {
          "output_type": "display_data",
          "data": {
            "image/png": "[encoded data removed]",
            "text/plain": [
              "<Figure size 432x288 with 1 Axes>"
            ]
          },
          "metadata": {
            "tags": [],
            "needs_background": "light"
          }
        }
      ]
    },
    {
      "cell_type": "code",
      "metadata": {
        "id": "h8NK-mkJqlb7",
        "colab": {
          "base_uri": "https://localhost:8080/"
        },
        "outputId": "23d8e39d-931b-431c-c358-9815707db403"
      },
      "source": [
        "# Making prediction using the model\n",
        "\n",
        "prediction = theta.T.dot(np.array([1, (1650-mu[1])/sigma[1], (3-mu[2])/sigma[2]])) \n",
        "print('In a house of 1650 square feet with 3 rooms, we predict a price of ${}'.format(np.round(prediction[0], 2)))"
      ],
      "execution_count": 16,
      "outputs": [
        {
          "output_type": "stream",
          "text": [
            "In a house of 1650 square feet with 3 rooms, we predict a price of $293098.47\n"
          ],
          "name": "stdout"
        }
      ]
    },
    {
      "cell_type": "code",
      "metadata": {
        "id": "LLX_2epuqlb8",
        "colab": {
          "base_uri": "https://localhost:8080/"
        },
        "outputId": "2def5a19-50f2-49b5-db74-81e7bde8f6f2"
      },
      "source": [
        "# Using Normal Equation\n",
        "\n",
        "theta = np.linalg.inv((X.T @ X)) @ X.T @ y\n",
        "theta"
      ],
      "execution_count": 17,
      "outputs": [
        {
          "output_type": "execute_result",
          "data": {
            "text/plain": [
              "array([[340412.65957447],\n",
              "       [109447.79646964],\n",
              "       [ -6578.35485416]])"
            ]
          },
          "metadata": {
            "tags": []
          },
          "execution_count": 17
        }
      ]
    },
    {
      "cell_type": "code",
      "metadata": {
        "id": "-gE-TUPRqlb8",
        "colab": {
          "base_uri": "https://localhost:8080/"
        },
        "outputId": "d1bc37de-bf6d-4b50-d68b-e0dfeb5c44dd"
      },
      "source": [
        "# Making prediction using the model\n",
        "\n",
        "prediction = theta.T.dot(np.array([1, (1650-mu[1])/sigma[1], (3-mu[2])/sigma[2]])) \n",
        "print('In a house of 1650 square feet with 3 rooms, we predict a price of ${}'.format(np.round(prediction[0], 2)))"
      ],
      "execution_count": 18,
      "outputs": [
        {
          "output_type": "stream",
          "text": [
            "In a house of 1650 square feet with 3 rooms, we predict a price of $293081.46\n"
          ],
          "name": "stdout"
        }
      ]
    },
    {
      "cell_type": "code",
      "metadata": {
        "id": "eZZzNqqSqlb9",
        "colab": {
          "base_uri": "https://localhost:8080/"
        },
        "outputId": "f4d6b4b8-7d6a-419d-b4d1-7c1ad6c5f439"
      },
      "source": [
        "# Using scikit-learn \n",
        "\n",
        "from sklearn.linear_model import LinearRegression\n",
        "\n",
        "lin_reg = LinearRegression()\n",
        "lin_reg.fit(X, y)\n",
        "lin_reg.intercept_, lin_reg.coef_"
      ],
      "execution_count": 19,
      "outputs": [
        {
          "output_type": "execute_result",
          "data": {
            "text/plain": [
              "(array([340412.65957447]),\n",
              " array([[     0.        , 109447.79646964,  -6578.35485416]]))"
            ]
          },
          "metadata": {
            "tags": []
          },
          "execution_count": 19
        }
      ]
    },
    {
      "cell_type": "code",
      "metadata": {
        "id": "OtZS60ZTqlb9",
        "colab": {
          "base_uri": "https://localhost:8080/"
        },
        "outputId": "4436b37c-110a-46aa-a57e-4434eff8b61a"
      },
      "source": [
        "# Making prediction using the model\n",
        "\n",
        "X_new = np.array([1, (1650-mu[1])/sigma[1], (3-mu[2])/sigma[2]])\n",
        "X_new = X_new.reshape(1, -1)  # For scikit-learn input feature should be a 2-D array\n",
        "prediction = lin_reg.predict(X_new) \n",
        "print('In a house of 1650 square feet with 3 rooms, we predict a price of ${}'.format(np.round(prediction[0, 0], 2)))"
      ],
      "execution_count": 20,
      "outputs": [
        {
          "output_type": "stream",
          "text": [
            "In a house of 1650 square feet with 3 rooms, we predict a price of $293081.46\n"
          ],
          "name": "stdout"
        }
      ]
    },
    {
      "cell_type": "markdown",
      "metadata": {
        "id": "lU1h0mgDwM-_"
      },
      "source": [
        "## Polynomial Regression"
      ]
    },
    {
      "cell_type": "code",
      "metadata": {
        "id": "7EYTL_9EwcsY"
      },
      "source": [
        "# Generating non-linear data based on a quadratic equation\n",
        "\n",
        "m = 100\n",
        "X = 6 * np.random.rand(m, 1) - 3\n",
        "y = 0.5 * X**2 + X + 2 + np.random.randn(m, 1)"
      ],
      "execution_count": 21,
      "outputs": []
    },
    {
      "cell_type": "code",
      "metadata": {
        "colab": {
          "base_uri": "https://localhost:8080/",
          "height": 279
        },
        "id": "V_Ip-3pQxHwF",
        "outputId": "4c591f52-4355-4275-a8f1-889f507839b0"
      },
      "source": [
        "# Visualizing the non-linear data\n",
        "\n",
        "plt.plot(X, y, \"r+\")\n",
        "plt.xlabel(\"X\")\n",
        "plt.ylabel(\"y\");"
      ],
      "execution_count": 22,
      "outputs": [
        {
          "output_type": "display_data",
          "data": {
            "image/png": "[encoded data removed]",
            "text/plain": [
              "<Figure size 432x288 with 1 Axes>"
            ]
          },
          "metadata": {
            "tags": [],
            "needs_background": "light"
          }
        }
      ]
    },
    {
      "cell_type": "code",
      "metadata": {
        "id": "iOeJfMK-Kee0",
        "colab": {
          "base_uri": "https://localhost:8080/"
        },
        "outputId": "c129d122-67cf-4565-9db9-d5ab02300b85"
      },
      "source": [
        "# Computing Polynomial features\n",
        "\n",
        "def polynomial_features(X, degrees):\n",
        "  t = X.copy()\n",
        "  for i in degrees:\n",
        "    X = np.append(X, t ** degrees, axis = 1)\n",
        "  return X\n",
        "\n",
        "\n",
        "X_poly = polynomial_features(X, [2]) # degrees = 2\n",
        "print(X[0])\n",
        "print(X_poly[0])"
      ],
      "execution_count": 23,
      "outputs": [
        {
          "output_type": "stream",
          "text": [
            "[0.93746587]\n",
            "[0.93746587 0.87884225]\n"
          ],
          "name": "stdout"
        }
      ]
    },
    {
      "cell_type": "code",
      "metadata": {
        "colab": {
          "base_uri": "https://localhost:8080/"
        },
        "id": "mWzW8kEqLGYf",
        "outputId": "5a069fff-a49e-4616-af70-28716fc4d40c"
      },
      "source": [
        "# Computing theta using Gradient descent\n",
        "\n",
        "alpha = 0.03\n",
        "iterations = 500\n",
        "initial_theta = np.zeros((3, 1))\n",
        "X_poly = np.c_[np.ones((m, 1)), X_poly]   # add x0, vectors of 1\n",
        "theta, J_history = gradient_descent_multiple(X_poly, y, alpha, initial_theta, iterations)\n",
        "theta"
      ],
      "execution_count": 24,
      "outputs": [
        {
          "output_type": "execute_result",
          "data": {
            "text/plain": [
              "array([[2.28787276],\n",
              "       [0.97646407],\n",
              "       [0.45671796]])"
            ]
          },
          "metadata": {
            "tags": []
          },
          "execution_count": 24
        }
      ]
    },
    {
      "cell_type": "code",
      "metadata": {
        "colab": {
          "base_uri": "https://localhost:8080/",
          "height": 295
        },
        "id": "OQCOj-rPcu0y",
        "outputId": "1e0e7075-3b3d-4093-ae8c-c772a17ea390"
      },
      "source": [
        "# Cost Function\n",
        "\n",
        "plt.plot(J_history);\n",
        "plt.title(\"J per iteration\");\n",
        "plt.xlabel(\"Number of iterations\")\n",
        "plt.ylabel(\"Cost\");"
      ],
      "execution_count": 25,
      "outputs": [
        {
          "output_type": "display_data",
          "data": {
            "image/png": "[encoded data removed]",
            "text/plain": [
              "<Figure size 432x288 with 1 Axes>"
            ]
          },
          "metadata": {
            "tags": [],
            "needs_background": "light"
          }
        }
      ]
    },
    {
      "cell_type": "code",
      "metadata": {
        "id": "nA4qYDsPmqwp"
      },
      "source": [
        "# Generated new set X for prediction\n",
        "\n",
        "X_new = np.linspace(-3, 3, 100).reshape(100, 1) "
      ],
      "execution_count": 26,
      "outputs": []
    },
    {
      "cell_type": "code",
      "metadata": {
        "colab": {
          "base_uri": "https://localhost:8080/",
          "height": 279
        },
        "id": "ySYp-NHZMhov",
        "outputId": "e38fca02-5639-42f1-dab6-18967a71fed6"
      },
      "source": [
        "# Visualization of the polynomial model\n",
        "\n",
        "X_new_poly = polynomial_features(X_new, [2])\n",
        "X_new_poly = np.c_[np.ones((m, 1)), X_new_poly] # add x0, vectors of 1\n",
        "plt.plot(X, y, \"r+\")\n",
        "plt.plot(X_new, X_new_poly @ theta)\n",
        "plt.xlabel(\"X\")\n",
        "plt.ylabel(\"y\");"
      ],
      "execution_count": 27,
      "outputs": [
        {
          "output_type": "display_data",
          "data": {
            "image/png": "[encoded data removed]",
            "text/plain": [
              "<Figure size 432x288 with 1 Axes>"
            ]
          },
          "metadata": {
            "tags": [],
            "needs_background": "light"
          }
        }
      ]
    },
    {
      "cell_type": "code",
      "metadata": {
        "colab": {
          "base_uri": "https://localhost:8080/"
        },
        "id": "TtVYemcsxc6q",
        "outputId": "1dec739b-a95d-4224-b7d8-ac1b9b2c5d5e"
      },
      "source": [
        "# Using scikit-learn to compute polynomial features\n",
        "\n",
        "from sklearn.preprocessing import PolynomialFeatures\n",
        "poly_features = PolynomialFeatures(degree = 2, include_bias = False)\n",
        "X_poly = poly_features.fit_transform(X)\n",
        "print(X[0])\n",
        "print(X_poly[0])"
      ],
      "execution_count": 28,
      "outputs": [
        {
          "output_type": "stream",
          "text": [
            "[0.93746587]\n",
            "[0.93746587 0.87884225]\n"
          ],
          "name": "stdout"
        }
      ]
    },
    {
      "cell_type": "code",
      "metadata": {
        "colab": {
          "base_uri": "https://localhost:8080/"
        },
        "id": "BJ-1rk4QyLLl",
        "outputId": "a0a7404e-2f43-430d-ce5b-5d86cc46f0ba"
      },
      "source": [
        "# Using Linear Regression() to fit our data \n",
        "\n",
        "lin_reg.fit(X_poly, y)\n",
        "lin_reg.intercept_, lin_reg.coef_"
      ],
      "execution_count": 29,
      "outputs": [
        {
          "output_type": "execute_result",
          "data": {
            "text/plain": [
              "(array([2.29119646]), array([[0.97649157, 0.45600128]]))"
            ]
          },
          "metadata": {
            "tags": []
          },
          "execution_count": 29
        }
      ]
    },
    {
      "cell_type": "code",
      "metadata": {
        "colab": {
          "base_uri": "https://localhost:8080/",
          "height": 279
        },
        "id": "BmfbInL1z9Mb",
        "outputId": "27528447-ef3e-47dc-de42-653c66ea0320"
      },
      "source": [
        "# Visualization of Polynomial Regression\n",
        "\n",
        "\n",
        "X_new_poly = poly_features.transform(X_new)\n",
        "plt.plot(X, y, \"r+\")\n",
        "plt.plot(X_new, lin_reg.predict(X_new_poly))\n",
        "plt.xlabel(\"X\")\n",
        "plt.ylabel(\"y\");"
      ],
      "execution_count": 30,
      "outputs": [
        {
          "output_type": "display_data",
          "data": {
            "image/png": "[encoded data removed]",
            "text/plain": [
              "<Figure size 432x288 with 1 Axes>"
            ]
          },
          "metadata": {
            "tags": [],
            "needs_background": "light"
          }
        }
      ]
    }
  ]
}